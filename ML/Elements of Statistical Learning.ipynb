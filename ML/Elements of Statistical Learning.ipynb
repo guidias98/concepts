{
 "cells": [
  {
   "cell_type": "markdown",
   "metadata": {},
   "source": [
    "## 2.3 Two simple approaches to prediction: Least Squares and Nearest Neighbors\n",
    "\n",
    "### 2.3.1 Linear models and Least Squares\n",
    "\n",
    "Given a vector of inputs $X^T = (X_1, X_2, ..., X_p)$, we predict the output Y via the model:\n",
    "\n",
    "$ \\hat{Y} = \\hat{\\beta}_0 + \\sum_{j=1}^{p} X_j\\hat{\\beta}_j. $\n",
    "\n",
    "The term $\\beta_0$ is the intercept, also known as the *bias* in machine learning. We can include the constant variable 1 in X and , include $\\beta_0$ in the vector of coefficients $\\hat{\\beta}$ and then write the linear model in vector form as an inner product:\n",
    "\n",
    "$ \\hat{Y} = X^T\\hat{\\beta} $\n",
    "\n",
    "Viewed as a function over the p-dimensional input space, *f*(X) = $X^T \\beta$ is linear, and the gradient *f*'(X) = $\\beta$ is a vector in input space that points in the steepest uphill direction.\n",
    "\n",
    "How do we fit the linear model to a set of training data? There are many methods, but the most popular is the method of *least squares*. In this approach, we pick the coefficients $\\beta$ that minimize the residual sum of squares:\n",
    "\n",
    "$ RSS(\\beta) = \\sum_{i=1}^{N} (y_i - x_i^T \\beta)^2 $\n",
    "\n",
    "or\n",
    "\n",
    "$RSS(\\beta) = \\sum_{i=1}^{N} (y_i - \\hat{y_i})^2 $\n",
    "\n",
    "\n",
    "RSS($\\beta$) is a quadratic function of the parameters, and hence its minimum always exists, but may not be unique*.\n",
    "\n",
    "\\* *I've tried but could not find an explanation for that statement, since we only have one **vertex** for a quadratic function.* \n",
    "\n",
    "\n"
   ]
  }
 ],
 "metadata": {
  "kernelspec": {
   "display_name": "Python 3",
   "language": "python",
   "name": "python3"
  },
  "language_info": {
   "codemirror_mode": {
    "name": "ipython",
    "version": 3
   },
   "file_extension": ".py",
   "mimetype": "text/x-python",
   "name": "python",
   "nbconvert_exporter": "python",
   "pygments_lexer": "ipython3",
   "version": "3.7.6"
  }
 },
 "nbformat": 4,
 "nbformat_minor": 4
}
