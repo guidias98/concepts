{
 "cells": [
  {
   "cell_type": "markdown",
   "metadata": {},
   "source": [
    "## Gradient, directional/partial derivatives\n",
    "\n",
    "### Formal definition of directional derivative\n",
    "If:\n",
    "\n",
    "Partial derivative = $\\dfrac{\\partial f}{\\partial x} (a,b) = \\lim_{h\\to 0} \\dfrac{f(a + h,b) - f(a,b)}{h} $\n",
    "\n",
    "What is the formal definition of the directional derivative of the gradient ($ \\nabla_\\vec{v} f $)?\n",
    "\n",
    "Firstly, we can write the definition of a partial derivative in *vector notation*:\n",
    "\n",
    "$ \\dfrac{\\partial f}{\\partial x} (\\vec{a}) = lim_{h\\to0} \\dfrac{f(\\vec{a} + h\\hat{i}) - f(\\vec{a})}{h} $,\n",
    "\n",
    "where $\\hat{i} = \\begin{bmatrix}\n",
    "                  1\\\\\n",
    "                  0\n",
    "                  \\end{bmatrix}$, which is a *unit vector* in the *x* direction.\n",
    "                  \n",
    "And now, we can write the formal definition of a directional derivative:\n",
    "\n",
    "$ \\nabla_\\vec{v}f(\\vec{a}) = lim_{h\\to0} \\dfrac{f(\\vec{a} + h\\vec{v}) - f(\\vec{a})}{h} $\n"
   ]
  },
  {
   "cell_type": "markdown",
   "metadata": {},
   "source": [
    "## Why the gradient is the direction of the steepest ascent?\n",
    "\n",
    "If:\n",
    "\n",
    "$ \\nabla f = \\begin{bmatrix}\n",
    "             \\partial f / \\partial x\\\\\n",
    "             \\partial f / \\partial y\n",
    "             \\end{bmatrix}$\n",
    "\n",
    "And:\n",
    "\n",
    "f(x,y) = x² + y²"
   ]
  },
  {
   "cell_type": "markdown",
   "metadata": {},
   "source": [
    "## Minimum of the RSS($\\beta$) function\n",
    "\n",
    "\"RSS($\\beta$) is a quadratic function of the parameters, and hence its minimum always exists, but may not be unique\".\n",
    "\n",
    "? How to visualize a quadratic function of the size of RSS, since it is a summation, not just a \"simple function\"?\n",
    "\n",
    "$ RSS(\\beta) = \\sum_{i=1}^{N} (y_i - x_i^T \\beta)^2 $\n",
    "\n",
    "or\n",
    "\n",
    "$RSS(\\beta) = \\sum_{i=1}^{N} (y_i - \\hat{y_i})^2 $\n",
    "\n",
    "Let's stick with the second notation, which is more simple.\n",
    "\n",
    "### Parabolas/quadratic functions\n",
    "\n",
    "A parabola can have a open down (inversed U) or an open upwards (U) shape. It always have a *vertex*, which is the *maximum* or *minimum* point of the parabola.\n",
    "\n",
    "Related to the idea of a vertex is the idea of an *axis of symmetry*, which is represented by the dashed line on the plot below."
   ]
  },
  {
   "cell_type": "code",
   "execution_count": 58,
   "metadata": {},
   "outputs": [
    {
     "data": {
      "image/png": "[encoded data removed]",
      "text/plain": [
       "<Figure size 432x288 with 1 Axes>"
      ]
     },
     "metadata": {
      "needs_background": "light"
     },
     "output_type": "display_data"
    }
   ],
   "source": [
    "import matplotlib.pyplot as plt\n",
    "import numpy as np\n",
    "\n",
    "x_points = np.arange(-5, 5.1, 0.1)\n",
    "y_points = [(x**2 + x - 10) for x in x_points]\n",
    "min_y = min(y_points)\n",
    "min_y_xaxis = x_points[y_points.index(min_y)]                       #x-axis value associated with the minimum y-axis value\n",
    "\n",
    "plt.plot(x_points, y_points)\n",
    "plt.vlines(min_y_xaxis, min_y, max(y_points), linestyles = 'dashed')\n",
    "plt.hlines(0, -5, 5)\n",
    "plt.show()"
   ]
  },
  {
   "cell_type": "markdown",
   "metadata": {},
   "source": [
    "## Derivating the RSS (Residual Sum of Squares)\n",
    "\n",
    "We can simplify the *residual sum of squares* by:\n",
    "    \n",
    "$\n",
    "RSS(\\beta) = \\sum_{i=1}^{N} (y_i - AX + B )^2 \n",
    "$\n",
    "\n",
    "We have to find the minimum of this function, where the partial derivatives of both two variables ($\\beta$ and *b*) are equal to 0:"
   ]
  },
  {
   "cell_type": "code",
   "execution_count": 1,
   "metadata": {},
   "outputs": [
    {
     "data": {
      "text/latex": [
       "\\begin{eqnarray}\n",
       "\\dfrac{\\partial RSS}{\\partial \\beta} = 0 \\\\\n",
       "\\\\\n",
       "0 = \\sum_{k=1}^{n} 2(y_k - \\beta X_k + b ).x_k \n",
       "\\end{eqnarray}"
      ],
      "text/plain": [
       "<IPython.core.display.Latex object>"
      ]
     },
     "execution_count": 1,
     "metadata": {},
     "output_type": "execute_result"
    }
   ],
   "source": [
    "from IPython.display import Latex\n",
    "Latex(r\"\"\"\\begin{eqnarray}\n",
    "\\dfrac{\\partial RSS}{\\partial \\beta} = 0 \\\\\n",
    "\\\\\n",
    "0 = \\sum_{k=1}^{n} 2(y_k - \\beta X_k + b ).x_k \n",
    "\\end{eqnarray}\"\"\")"
   ]
  }
 ],
 "metadata": {
  "kernelspec": {
   "display_name": "Python 3",
   "language": "python",
   "name": "python3"
  },
  "language_info": {
   "codemirror_mode": {
    "name": "ipython",
    "version": 3
   },
   "file_extension": ".py",
   "mimetype": "text/x-python",
   "name": "python",
   "nbconvert_exporter": "python",
   "pygments_lexer": "ipython3",
   "version": "3.7.6"
  }
 },
 "nbformat": 4,
 "nbformat_minor": 4
}
