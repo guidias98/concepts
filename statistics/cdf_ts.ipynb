{
  "nbformat": 4,
  "nbformat_minor": 0,
  "metadata": {
    "colab": {
      "name": "Thinkstats.ipynb",
      "provenance": [],
      "collapsed_sections": []
    },
    "kernelspec": {
      "name": "python3",
      "display_name": "Python 3"
    }
  },
  "cells": [
    {
      "cell_type": "markdown",
      "metadata": {
        "id": "x197MiNlPjWv",
        "colab_type": "text"
      },
      "source": [
        "# CDFs\n",
        "\n",
        "Hello, guys! In this notebook, we will talk about and practice CDF - the Cumulative Distribution Function - with the help of the data, modules and classes from the *Think Stats* book (O'Reilly), courtesy from its author, Allen B. Downey.\n",
        "\n",
        "## Definition\n",
        "\n",
        "As the name suggests, a CDF is a *function* of *x*, where *x* is any value that might appear in a specific distribution, which maps its **percentile rank**. But what is a percentile rank?\n",
        "\n",
        "A *percentile* of *x* is the **fraction of the data from some distribution that is equal to or below** that value multiplied by 100.\n",
        "\n",
        "For example, imagine that there are 5 people in your house - including you - and you're the 3rd tallest (or smallest) person, with 5'8\"/1,73 m. Therefore, with respect to the distribution of heights in your house, the *percentile* of your height is 60, since there are 3 people (2 relatives + you, from a total of 5) with a height equal to or below 5'8\"/1,73 m. The calculation is simple:\n",
        "\n"
      ]
    },
    {
      "cell_type": "code",
      "metadata": {
        "id": "KRi5uOp4XIhi",
        "colab_type": "code",
        "colab": {
          "base_uri": "https://localhost:8080/",
          "height": 34
        },
        "outputId": "6933b12c-c515-4a66-dabd-87a81933077c"
      },
      "source": [
        "(3/5) * 100"
      ],
      "execution_count": 1,
      "outputs": [
        {
          "output_type": "execute_result",
          "data": {
            "text/plain": [
              "60.0"
            ]
          },
          "metadata": {
            "tags": []
          },
          "execution_count": 1
        }
      ]
    },
    {
      "cell_type": "markdown",
      "metadata": {
        "id": "XiqN09ujXJU8",
        "colab_type": "text"
      },
      "source": [
        "Thus, that's why the CDF is a *cumulative* function; when we sort the values from a distribution upwardly, as the value of *x* increases, the accumulated number of values below or equal to *x* increases.\n",
        "\n",
        "You must be asking yourself whats is the difference between \"percentile\" and \"percentile rank\"; in a more general context, they're basically the same thing. However, within the Cdf class in the `thinkstats2` script that we will use, they're two different *functions*. We will see them in details later.\n",
        "\n",
        "Now, let's practice CDFs with some data!"
      ]
    },
    {
      "cell_type": "code",
      "metadata": {
        "id": "TNcbpJhFcqz9",
        "colab_type": "code",
        "colab": {
          "base_uri": "https://localhost:8080/",
          "height": 52
        },
        "outputId": "3ebd1bba-ac16-4b44-f56e-cd761d61b0f1"
      },
      "source": [
        "# mounting my Google Drive\n",
        "\n",
        "import sys\n",
        "sys.path.append('/content/gdrive/My Drive/Colab Notebooks/code')\n",
        "\n",
        "from google.colab import drive \n",
        "drive.mount('/content/gdrive', force_remount=True)\n",
        "\n",
        "%cd gdrive/My Drive/Colab Notebooks/code"
      ],
      "execution_count": 2,
      "outputs": [
        {
          "output_type": "stream",
          "text": [
            "Mounted at /content/gdrive\n",
            "/content/gdrive/My Drive/Colab Notebooks/code\n"
          ],
          "name": "stdout"
        }
      ]
    },
    {
      "cell_type": "code",
      "metadata": {
        "id": "P9HFYqufdRLT",
        "colab_type": "code",
        "colab": {}
      },
      "source": [
        "#importing all the scripts + libraries\n",
        "import thinkstats2\n",
        "import nsfg\n",
        "import thinkplot\n",
        "import first\n",
        "import numpy as np\n",
        "import matplotlib.pyplot as plt\n",
        "plt.rcParams[\"figure.figsize\"] = (10,7)"
      ],
      "execution_count": 3,
      "outputs": []
    },
    {
      "cell_type": "code",
      "metadata": {
        "id": "Xi0_mqYzeE7R",
        "colab_type": "code",
        "colab": {}
      },
      "source": [
        ""
      ],
      "execution_count": 3,
      "outputs": []
    },
    {
      "cell_type": "markdown",
      "metadata": {
        "id": "pK8_QJm4YJhc",
        "colab_type": "text"
      },
      "source": [
        "## Data\n",
        "\n",
        "The data we will use is from the National Survey of Family Growth (NSFG), conducted by the U.S. Centers for Disease Control and Prevention (CDC) since 1973. More information about this survey can be found on http://cdc.gov/nchs/nsfg.htm.\n",
        "\n",
        "More specifically, we will compare first pregnancy data with other pregnancies data.\n",
        "\n",
        "## Representing CDFs\n",
        "\n",
        "The `thinkstats2` script provides a class named Cdf that represents CDFs. Its fundamental methods are:\n",
        "\n",
        "- Prob(x): given a value *x*, computes the probability p = CDF(x)\n",
        "- Value(p): given a probability *p*, returns the value *x* which CDF(x) = p\n",
        "\n",
        "The Cdf constructor can take as an argument a list of values, a pandas Series, another Cdf, etc. to construct a Cdf object. \n",
        "\n",
        "## Implementation\n",
        "\n",
        "The code below is divided in multiple parts:\n",
        "1. **Importing data**: Import the datasets of all completed pregnancies (`live` DataFrame); only first pregnancies (`firsts`) and only pregnancies posterior to the first (`others`); -->\n",
        "2. **Creating a Cdf object**: Make a Cdf for the distribution of pregnancy lengths (the `prglngth` Series from the `live` DataFrame), invoked by the `MakeFrames()` method from the `first` script.\n",
        "3. **Creating and displaying the CDF plot**: \"Transform\" the Cdf object into a CDF plot with the `Cdf` function from the `thinkplot` script.\n",
        "\n"
      ]
    },
    {
      "cell_type": "code",
      "metadata": {
        "id": "OuaSoXMMWzu5",
        "colab_type": "code",
        "colab": {}
      },
      "source": [
        "live, firsts, others = first.MakeFrames()\n",
        "cdf = thinkstats2.Cdf(live.prglngth, label = 'prglngth')"
      ],
      "execution_count": 14,
      "outputs": []
    },
    {
      "cell_type": "code",
      "metadata": {
        "id": "BJj6q5nqenNC",
        "colab_type": "code",
        "colab": {
          "base_uri": "https://localhost:8080/",
          "height": 460
        },
        "outputId": "f8fc8d2b-ac00-495f-b82d-caef3d1b9226"
      },
      "source": [
        "thinkplot.Cdf(cdf)\n",
        "plt.grid()\n",
        "thinkplot.Show(xlabel= 'weeks', ylabel= 'CDF',\n",
        "               xticks= np.arange(min(live.prglngth), max(live.prglngth) + 1,\n",
        "                                        5.0),\n",
        "               yticks= np.arange(0, 1.1, 0.1))"
      ],
      "execution_count": 21,
      "outputs": [
        {
          "output_type": "display_data",
          "data": {
            "image/png": "[encoded data removed]",
            "text/plain": [
              "<Figure size 720x504 with 1 Axes>"
            ]
          },
          "metadata": {
            "tags": [],
            "needs_background": "light"
          }
        },
        {
          "output_type": "display_data",
          "data": {
            "text/plain": [
              "<Figure size 576x432 with 0 Axes>"
            ]
          },
          "metadata": {
            "tags": []
          }
        }
      ]
    },
    {
      "cell_type": "markdown",
      "metadata": {
        "id": "adWi5oUa1X11",
        "colab_type": "text"
      },
      "source": [
        "With a PDF we can have useful insights: 10% of the pregnancies length are equal to or less than 36 weeks, while approximately 90% of them are equal to or less than 41 weeks.\n",
        "Other evident information is the distribution shape; frequent values are represented with a steep or even vertical line on the plot. In our example, the 39 weeks mode is easy to detect."
      ]
    },
    {
      "cell_type": "markdown",
      "metadata": {
        "id": "65BkvQz1faqF",
        "colab_type": "text"
      },
      "source": [
        "## Comparing CDFs"
      ]
    },
    {
      "cell_type": "code",
      "metadata": {
        "id": "Z9uyqKQVfcu3",
        "colab_type": "code",
        "colab": {
          "base_uri": "https://localhost:8080/",
          "height": 460
        },
        "outputId": "358f09f5-fd42-409c-83eb-5d8850498683"
      },
      "source": [
        "firsts_cdf = thinkstats2.Cdf(firsts.totalwgt_lb, label= 'firsts')\n",
        "others_cdf = thinkstats2.Cdf(others.totalwgt_lb, label= 'others')\n",
        "\n",
        "thinkplot.PrePlot(2)                                                            #this function \"prepares\" thinkplot to plot 2 graphs on the same figure\n",
        "thinkplot.Cdfs([firsts_cdf, others_cdf])\n",
        "thinkplot.Show(xlabel= 'weight (Pounds)', ylabel= 'CDF')"
      ],
      "execution_count": 22,
      "outputs": [
        {
          "output_type": "display_data",
          "data": {
            "image/png": "[encoded data removed]",
            "text/plain": [
              "<Figure size 720x504 with 1 Axes>"
            ]
          },
          "metadata": {
            "tags": [],
            "needs_background": "light"
          }
        },
        {
          "output_type": "display_data",
          "data": {
            "text/plain": [
              "<Figure size 576x432 with 0 Axes>"
            ]
          },
          "metadata": {
            "tags": []
          }
        }
      ]
    },
    {
      "cell_type": "code",
      "metadata": {
        "id": "PVPosPUWhS9w",
        "colab_type": "code",
        "colab": {
          "base_uri": "https://localhost:8080/",
          "height": 34
        },
        "outputId": "ec2ad98d-3973-4e68-d084-31410779ace0"
      },
      "source": [
        "print(round(firsts.totalwgt_lb.mean(),2), round(others.totalwgt_lb.mean(),2))"
      ],
      "execution_count": 7,
      "outputs": [
        {
          "output_type": "stream",
          "text": [
            "7.2 7.33\n"
          ],
          "name": "stdout"
        }
      ]
    },
    {
      "cell_type": "markdown",
      "metadata": {
        "id": "X8wz6iV6_NL_",
        "colab_type": "text"
      },
      "source": [
        "## Percentile based stattistics"
      ]
    },
    {
      "cell_type": "code",
      "metadata": {
        "id": "ewSGs9iwEd3K",
        "colab_type": "code",
        "colab": {
          "base_uri": "https://localhost:8080/",
          "height": 34
        },
        "outputId": "103f493a-d00b-4951-dcaa-f2066ddd4ab8"
      },
      "source": [
        "firsts_cdf.PercentileRank(5.5)        #given a value x, computes its 100 * CDF"
      ],
      "execution_count": 8,
      "outputs": [
        {
          "output_type": "execute_result",
          "data": {
            "text/plain": [
              "9.305523722209488"
            ]
          },
          "metadata": {
            "tags": []
          },
          "execution_count": 8
        }
      ]
    },
    {
      "cell_type": "code",
      "metadata": {
        "id": "blzrQJxyFHVf",
        "colab_type": "code",
        "colab": {
          "base_uri": "https://localhost:8080/",
          "height": 34
        },
        "outputId": "7a3449d5-8107-4cb1-fbfe-b669e20f8b32"
      },
      "source": [
        "firsts_cdf.Percentile(50)             #given a percentile (in this case, is the MEDIAN), returns the correspondent x value"
      ],
      "execution_count": 9,
      "outputs": [
        {
          "output_type": "execute_result",
          "data": {
            "text/plain": [
              "7.3125"
            ]
          },
          "metadata": {
            "tags": []
          },
          "execution_count": 9
        }
      ]
    },
    {
      "cell_type": "markdown",
      "metadata": {
        "id": "vU1vxP__LGR1",
        "colab_type": "text"
      },
      "source": [
        "## Random numbers"
      ]
    },
    {
      "cell_type": "code",
      "metadata": {
        "id": "vbt2VWCYLH2-",
        "colab_type": "code",
        "colab": {}
      },
      "source": [
        "weights = live.totalwgt_lb\n",
        "cdf = thinkstats2.Cdf(weights, label = 'totalwgt_lb')"
      ],
      "execution_count": 10,
      "outputs": []
    },
    {
      "cell_type": "code",
      "metadata": {
        "id": "8-s94ykkLkN_",
        "colab_type": "code",
        "colab": {}
      },
      "source": [
        "sample = np.random.choice(weights, 100, replace=True)\n",
        "ranks = [cdf.PercentileRank(x) for x in sample]"
      ],
      "execution_count": 11,
      "outputs": []
    },
    {
      "cell_type": "code",
      "metadata": {
        "id": "diPy_xwGMEFg",
        "colab_type": "code",
        "colab": {
          "base_uri": "https://localhost:8080/",
          "height": 460
        },
        "outputId": "3a92ca8b-9ab2-4136-d3ac-4875e4669806"
      },
      "source": [
        "ranks_cdf = thinkstats2.Cdf(ranks)\n",
        "thinkplot.Cdf(ranks_cdf)\n",
        "thinkplot.Show(xlabel = 'Percentile rank', ylabel= 'CDF')"
      ],
      "execution_count": 12,
      "outputs": [
        {
          "output_type": "display_data",
          "data": {
            "image/png": "[encoded data removed]",
            "text/plain": [
              "<Figure size 720x504 with 1 Axes>"
            ]
          },
          "metadata": {
            "tags": [],
            "needs_background": "light"
          }
        },
        {
          "output_type": "display_data",
          "data": {
            "text/plain": [
              "<Figure size 576x432 with 0 Axes>"
            ]
          },
          "metadata": {
            "tags": []
          }
        }
      ]
    },
    {
      "cell_type": "markdown",
      "metadata": {
        "id": "1YAFGpBOM_Un",
        "colab_type": "text"
      },
      "source": [
        "This line is straight/linear because of the way that a CDF is defined; as we would expect, 40% of the sample is below the 40 percentile rank, 60% below the 60 percentile rank, and so on."
      ]
    },
    {
      "cell_type": "markdown",
      "metadata": {
        "id": "6cFK2zqsPiSA",
        "colab_type": "text"
      },
      "source": [
        ""
      ]
    }
  ]
}