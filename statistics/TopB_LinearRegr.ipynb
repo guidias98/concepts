{
  "nbformat": 4,
  "nbformat_minor": 0,
  "metadata": {
    "colab": {
      "name": "TopB_Aula01.ipynb",
      "provenance": []
    },
    "kernelspec": {
      "name": "python3",
      "display_name": "Python 3"
    }
  },
  "cells": [
    {
      "cell_type": "code",
      "metadata": {
        "id": "Dos5O0mAGIfV",
        "colab_type": "code",
        "colab": {}
      },
      "source": [
        "import statsmodels.api as sm                                                    # importar a API que contém o conjunto de dados mt cars\n",
        "import numpy as np                                                              # manipulação de matrizes/vetores\n",
        "import pandas as pd                                                             # manipulação de datasets\n",
        "import seaborn as sn                                                            # visualização de dados\n",
        "import matplotlib                                                               # visualização de dados\n",
        "import matplotlib.pyplot as plt                                                 # visualização de dados\n",
        "matplotlib.rcParams['figure.figsize'] = (9.0, 6.0)                              # ajustar tamanho padrão dos gráficos\n",
        "from sklearn import linear_model                                                # regressão linear\n",
        "from sklearn.metrics import mean_absolute_error                                 # erro médio absoluto\n",
        "from statistics import mean                                                     # funcao que calcula media"
      ],
      "execution_count": 270,
      "outputs": []
    },
    {
      "cell_type": "code",
      "metadata": {
        "id": "oVh6F5a3G29l",
        "colab_type": "code",
        "colab": {}
      },
      "source": [
        "#importando o mtcars\n",
        "mtcars = sm.datasets.get_rdataset('mtcars', 'datasets', cache=True).data\n",
        "mtcars = pd.DataFrame(mtcars)"
      ],
      "execution_count": 271,
      "outputs": []
    },
    {
      "cell_type": "code",
      "metadata": {
        "id": "dNkHXcbjHsy-",
        "colab_type": "code",
        "colab": {
          "base_uri": "https://localhost:8080/",
          "height": 391
        },
        "outputId": "7fe372a9-e186-4200-febc-4e735a666d95"
      },
      "source": [
        "sn.scatterplot(mtcars['hp'], mtcars['mpg'])\n",
        "plt.show()"
      ],
      "execution_count": 272,
      "outputs": [
        {
          "output_type": "display_data",
          "data": {
            "image/png": "[encoded data removed]",
            "text/plain": [
              "<Figure size 648x432 with 1 Axes>"
            ]
          },
          "metadata": {
            "tags": [],
            "needs_background": "light"
          }
        }
      ]
    },
    {
      "cell_type": "markdown",
      "metadata": {
        "id": "A4xH2Ei1Jkgu",
        "colab_type": "text"
      },
      "source": [
        "Em um primeiro momento, vamos usar apenas a variável \"hp\" para prever \"mpg\"; temos então que separá-las em duas variáveis diferentes."
      ]
    },
    {
      "cell_type": "code",
      "metadata": {
        "id": "633busLtJzmO",
        "colab_type": "code",
        "colab": {}
      },
      "source": [
        "mtcars_X = mtcars['hp']\n",
        "mtcars_y = mtcars['mpg']"
      ],
      "execution_count": 273,
      "outputs": []
    },
    {
      "cell_type": "code",
      "metadata": {
        "id": "RrEwxvEHKJIZ",
        "colab_type": "code",
        "colab": {}
      },
      "source": [
        "X_train, X_test, y_train, y_test = skl.model_selection.train_test_split(        # Aplicando o método holdout para separar treino e teste. obs: esse método faz uma seleção aleatória,\n",
        "mtcars_X, mtcars_y, test_size = 0.25)                                           # então não precisamos \"embaralhar\" os dados                                                                                                      "
      ],
      "execution_count": 274,
      "outputs": []
    },
    {
      "cell_type": "markdown",
      "metadata": {
        "id": "YE9pyzc9-W5F",
        "colab_type": "text"
      },
      "source": [
        "Antes de instanciar o objeto da regressão e treinar o modelo, precisamos fazer um ajuste. O método `.fit()` só funciona quando a matriz dos valores do conjunto de dados X tem um formato 2D (acesse o link https://www.w3schools.com/python/numpy_creating_arrays.asp p/ mais detalhes). Como só estamos usando *uma* variável como preditora em X, precisamos então converter as variáveis X_train e X_test para esse formato 2D."
      ]
    },
    {
      "cell_type": "code",
      "metadata": {
        "id": "i9Rz-gxkSWkm",
        "colab_type": "code",
        "colab": {}
      },
      "source": [
        "#Criando o objeto da regressão linear\n",
        "regr = linear_model.LinearRegression() \n",
        "\n",
        "# Treinar o modelo usando os conjuntos de treino\n",
        "regr.fit(X_train.values.reshape(-1,1), y_train)                                  # o metodo .reshape() converte as variaveis X para 2D\n",
        "\n",
        "# Fazer as predições com base no conjunto de teste\n",
        "y_pred = regr.predict(X_test.values.reshape(-1,1))"
      ],
      "execution_count": 277,
      "outputs": []
    },
    {
      "cell_type": "markdown",
      "metadata": {
        "id": "sEu3cN1ATUoa",
        "colab_type": "text"
      },
      "source": [
        "Finalmente, vamos calcular os valores do intercepto, coeficiente angular e o erro médio absoluto usando os métodos `.intercept_` e `.coef_` e a função `mean_absolute_error` do scikit-learn."
      ]
    },
    {
      "cell_type": "code",
      "metadata": {
        "id": "32T296KHTmKp",
        "colab_type": "code",
        "colab": {
          "base_uri": "https://localhost:8080/",
          "height": 105
        },
        "outputId": "c716fe96-62df-4684-808d-c14b30ce045e"
      },
      "source": [
        "print(f'Intercepto e coeficiente:')\n",
        "print(regr.intercept_.round(2))\n",
        "print(regr.coef_.round(4))\n",
        "print(f\"\\nErro médio absoluto: {mean_absolute_error(y_test, y_pred).round(2)}\")        \n"
      ],
      "execution_count": 278,
      "outputs": [
        {
          "output_type": "stream",
          "text": [
            "Intercepto e coeficiente:\n",
            "28.52\n",
            "[-0.0572]\n",
            "\n",
            "Erro médio absoluto: 4.52\n"
          ],
          "name": "stdout"
        }
      ]
    },
    {
      "cell_type": "code",
      "metadata": {
        "id": "bRWlClATcgX3",
        "colab_type": "code",
        "colab": {
          "base_uri": "https://localhost:8080/",
          "height": 391
        },
        "outputId": "bfbd41cc-b547-44a4-9d25-ced77a670184"
      },
      "source": [
        "# podemos visualizar a reta da regressão junto com os dados de teste...\n",
        "sn.scatterplot(X_test,y_test)\n",
        "plt.plot(X_test, y_pred, color='green', linewidth=3)\n",
        "plt.show()"
      ],
      "execution_count": 279,
      "outputs": [
        {
          "output_type": "display_data",
          "data": {
            "image/png": "[encoded data removed]",
            "text/plain": [
              "<Figure size 648x432 with 1 Axes>"
            ]
          },
          "metadata": {
            "tags": [],
            "needs_background": "light"
          }
        }
      ]
    },
    {
      "cell_type": "code",
      "metadata": {
        "id": "hpSrk-8VAPK9",
        "colab_type": "code",
        "colab": {
          "base_uri": "https://localhost:8080/",
          "height": 391
        },
        "outputId": "11fc529a-8241-498d-f0d9-c742d848b4d9"
      },
      "source": [
        "#... e com todos os dados também!\n",
        "total_y_pred = regr.predict(mtcars_X.values.reshape(-1,1))                      # não esquecer de reformatar os dados X!\n",
        "sn.scatterplot(mtcars_X, mtcars_y)\n",
        "plt.plot(mtcars_X, total_y_pred, color='green')\n",
        "plt.show()"
      ],
      "execution_count": 280,
      "outputs": [
        {
          "output_type": "display_data",
          "data": {
            "image/png": "[encoded data removed]",
            "text/plain": [
              "<Figure size 648x432 with 1 Axes>"
            ]
          },
          "metadata": {
            "tags": [],
            "needs_background": "light"
          }
        }
      ]
    },
    {
      "cell_type": "markdown",
      "metadata": {
        "id": "clT94EL8ZBcN",
        "colab_type": "text"
      },
      "source": [
        "Para fazer o holdout repetido, e adicionar outras variáveis no modelo, podemos fazer uma função:"
      ]
    },
    {
      "cell_type": "code",
      "metadata": {
        "id": "kYHFonu3TTnY",
        "colab_type": "code",
        "colab": {}
      },
      "source": [
        "def reg_linear():\n",
        "\n",
        "  n = int(input('Insira o número de repetições do holdout: '))\n",
        "  predita = input('Insira o nome da variavel predita: ')\n",
        "  preditoras = input('Insira o nome da(s) variavel(is) preditora(s) - Se for mais de uma variável, separar com vírgula e sem espaço:').split(',') \n",
        "\n",
        "  X = mtcars.loc[:, preditoras]\n",
        "  y = mtcars[predita]\n",
        "  # lista que irá conter o EMA de cada repetição\n",
        "  lista_ema = []                                                              \n",
        "\n",
        "  # se for passada só uma variavel preditora, temos que reformatar\n",
        "  if X.values.ndim == 1:                                                        \n",
        "      X = X.values.reshape(-1,1)\n",
        "  else:\n",
        "      pass\n",
        "\n",
        "  for i in range(n):\n",
        "    X_train, X_test, y_train, y_test = skl.model_selection.train_test_split(                                                                     \n",
        "                                        X, y, test_size = 0.25)\n",
        "    regr = linear_model.LinearRegression() \n",
        "    regr.fit(X_train, y_train)\n",
        "    y_pred = regr.predict(X_test) \n",
        "    # adicionamos o EMA na lista\n",
        "    lista_ema.append(mean_absolute_error(y_test, y_pred))\n",
        "\n",
        "  # finalmente, retorna-se a média de todos n EMAs\n",
        "  print(f'Média do EMA usando {preditoras} como preditora(s):',mean(lista_ema).round(2))\n"
      ],
      "execution_count": 287,
      "outputs": []
    },
    {
      "cell_type": "code",
      "metadata": {
        "id": "AVA14Ub9a5dw",
        "colab_type": "code",
        "colab": {
          "base_uri": "https://localhost:8080/",
          "height": 87
        },
        "outputId": "d3efe254-7877-40ec-bb51-4234989d9432"
      },
      "source": [
        "# teste com uma variável (hp)\n",
        "reg_linear()"
      ],
      "execution_count": 286,
      "outputs": [
        {
          "output_type": "stream",
          "text": [
            "Insira o número de repetições do holdout: 1000\n",
            "Insira o nome da variavel predita: mpg\n",
            "Insira o nome da(s) variavel(is) preditora(s) (Se for mais de uma variável, separar com vírgula e sem espaço:hp\n",
            "Média do EMA usando ['hp'] como preditora(s): 3.22\n"
          ],
          "name": "stdout"
        }
      ]
    },
    {
      "cell_type": "code",
      "metadata": {
        "id": "swv8KRrYog8s",
        "colab_type": "code",
        "colab": {
          "base_uri": "https://localhost:8080/",
          "height": 87
        },
        "outputId": "836f71bc-305b-4eed-c7ca-8b907791b9e8"
      },
      "source": [
        "# teste com duas variáveis (hp + cyl)\n",
        "reg_linear()"
      ],
      "execution_count": 288,
      "outputs": [
        {
          "output_type": "stream",
          "text": [
            "Insira o número de repetições do holdout: 1000\n",
            "Insira o nome da variavel predita: mpg\n",
            "Insira o nome da(s) variavel(is) preditora(s) - Se for mais de uma variável, separar com vírgula e sem espaço:hp,cyl\n",
            "Média do EMA usando ['hp', 'cyl'] como preditora(s): 2.7\n"
          ],
          "name": "stdout"
        }
      ]
    }
  ]
}
